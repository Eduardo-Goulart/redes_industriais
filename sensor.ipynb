{
 "cells": [
  {
   "cell_type": "code",
   "execution_count": 1,
   "metadata": {},
   "outputs": [],
   "source": [
    "from sockets_udp.udp_client import Client\n",
    "from serial_ard.serial_ard import Serial_sr\n",
    "from struct import pack\n",
    "import socketserver\n",
    "import socket\n",
    "import time\n",
    "import sys\n",
    "import os\n",
    "from threading import Thread\n",
    "import serial\n",
    "import numpy as np\n",
    "from random import randint"
   ]
  },
  {
   "cell_type": "code",
   "execution_count": 2,
   "metadata": {},
   "outputs": [],
   "source": [
    "COMPORT = 'COM3'\n",
    "HOST    = '25.93.32.9'                        # IP do hamachi\n",
    "PORT    = 1234\n",
    "PERIOD  = 500                                   # Periodo do ciclo em ms\n",
    "NAME    = b'S'                                   # Nome do serviço \n",
    "buffer = 1024"
   ]
  },
  {
   "cell_type": "code",
   "execution_count": 3,
   "metadata": {},
   "outputs": [],
   "source": [
    "def connect():\n",
    "    \n",
    "    client = socket.socket(socket.AF_INET, socket.SOCK_DGRAM, socket.IPPROTO_UDP)\n",
    "    client.setsockopt(socket.SOL_SOCKET, socket.SO_BROADCAST, 1)\n",
    "    client.settimeout(5)\n",
    "    \n",
    "    print('Client connected...')\n",
    "    \n",
    "    return client"
   ]
  },
  {
   "cell_type": "code",
   "execution_count": 4,
   "metadata": {},
   "outputs": [],
   "source": [
    "def connect_arduino():\n",
    "    return serial.Serial(port = COMPORT, baudrate = 9600, timeout = 1)"
   ]
  },
  {
   "cell_type": "code",
   "execution_count": 5,
   "metadata": {},
   "outputs": [],
   "source": [
    "def send_message(client):\n",
    "    \n",
    "    while True:\n",
    "        \n",
    "        valor_sensor = randint(0, 10)\n",
    "        \n",
    "#         valor_sensor = int(arduino.readline())\n",
    "        \n",
    "        bytes_to_send = int.to_bytes(valor_sensor, 4, byteorder='little')\n",
    "        PV = NAME + bytes_to_send\n",
    "        \n",
    "        print('Sending: ', PV)\n",
    "        \n",
    "        client.sendto(PV, (HOST, PORT))\n",
    "        \n",
    "        response, address = client.recvfrom(1024)\n",
    "        \n",
    "        print('Response: ', response.decode())\n",
    "        \n",
    "        time.sleep(1.5)"
   ]
  },
  {
   "cell_type": "code",
   "execution_count": null,
   "metadata": {},
   "outputs": [
    {
     "name": "stdout",
     "output_type": "stream",
     "text": [
      "Client connected...\n",
      "Sending:  b'S\\x06\\x00\\x00\\x00'\n",
      "Response:  Data processed\n",
      "Sending:  b'S\\n\\x00\\x00\\x00'\n",
      "Response:  Data processed\n",
      "Sending:  b'S\\x03\\x00\\x00\\x00'\n",
      "Response:  Data processed\n",
      "Sending:  b'S\\x06\\x00\\x00\\x00'\n",
      "Response:  Data processed\n",
      "Sending:  b'S\\x07\\x00\\x00\\x00'\n",
      "Response:  Data processed\n",
      "Sending:  b'S\\x02\\x00\\x00\\x00'\n",
      "Response:  Data processed\n",
      "Sending:  b'S\\x01\\x00\\x00\\x00'\n",
      "Response:  Data processed\n",
      "Sending:  b'S\\x08\\x00\\x00\\x00'\n",
      "Response:  Data processed\n",
      "Sending:  b'S\\x05\\x00\\x00\\x00'\n",
      "Response:  Data processed\n",
      "Sending:  b'S\\n\\x00\\x00\\x00'\n",
      "Response:  Data processed\n",
      "Sending:  b'S\\x04\\x00\\x00\\x00'\n",
      "Response:  Data processed\n",
      "Sending:  b'S\\x05\\x00\\x00\\x00'\n",
      "Response:  Data processed\n",
      "Sending:  b'S\\x07\\x00\\x00\\x00'\n",
      "Response:  Data processed\n",
      "Sending:  b'S\\t\\x00\\x00\\x00'\n",
      "Response:  Data processed\n",
      "Sending:  b'S\\x07\\x00\\x00\\x00'\n",
      "Response:  Data processed\n",
      "Sending:  b'S\\x06\\x00\\x00\\x00'\n",
      "Response:  Data processed\n",
      "Sending:  b'S\\x03\\x00\\x00\\x00'\n",
      "Response:  Data processed\n",
      "Sending:  b'S\\x08\\x00\\x00\\x00'\n",
      "Response:  Data processed\n",
      "Sending:  b'S\\x04\\x00\\x00\\x00'\n",
      "Response:  Data processed\n",
      "Sending:  b'S\\x04\\x00\\x00\\x00'\n",
      "Response:  Data processed\n",
      "Sending:  b'S\\x06\\x00\\x00\\x00'\n",
      "Response:  Data processed\n",
      "Sending:  b'S\\x07\\x00\\x00\\x00'\n",
      "Response:  Data processed\n",
      "Sending:  b'S\\x02\\x00\\x00\\x00'\n",
      "Response:  Data processed\n",
      "Sending:  b'S\\x04\\x00\\x00\\x00'\n",
      "Response:  Data processed\n"
     ]
    }
   ],
   "source": [
    "client = connect()\n",
    "#arduino = connect_arduino()\n",
    "\n",
    "send_message(client)"
   ]
  },
  {
   "cell_type": "code",
   "execution_count": null,
   "metadata": {},
   "outputs": [],
   "source": [
    "client = connect()\n"
   ]
  },
  {
   "cell_type": "code",
   "execution_count": null,
   "metadata": {},
   "outputs": [],
   "source": [
    "help(client)"
   ]
  },
  {
   "cell_type": "code",
   "execution_count": null,
   "metadata": {},
   "outputs": [],
   "source": []
  }
 ],
 "metadata": {
  "kernelspec": {
   "display_name": "Python 3",
   "language": "python",
   "name": "python3"
  },
  "language_info": {
   "codemirror_mode": {
    "name": "ipython",
    "version": 3
   },
   "file_extension": ".py",
   "mimetype": "text/x-python",
   "name": "python",
   "nbconvert_exporter": "python",
   "pygments_lexer": "ipython3",
   "version": "3.8.10"
  }
 },
 "nbformat": 4,
 "nbformat_minor": 4
}
