{
 "cells": [
  {
   "cell_type": "code",
   "execution_count": 2,
   "metadata": {},
   "outputs": [],
   "source": [
    "from sockets_udp.udp_client import Client\n",
    "from serial_ard.serial_ard import Serial_sr\n",
    "from struct import pack\n",
    "import time\n",
    "import sys\n",
    "import os"
   ]
  },
  {
   "cell_type": "code",
   "execution_count": 3,
   "metadata": {},
   "outputs": [
    {
     "name": "stdout",
     "output_type": "stream",
     "text": [
      "Iniciando a conexão cliente/servidor...\n",
      "Conectado com  ('25.114.157.253', 1234)\n"
     ]
    }
   ],
   "source": [
    "COMPORT = 'COM3'\n",
    "HOST    = '25.114.157.253' # IP do hamachi\n",
    "PORT    = 1234\n",
    "\n",
    "PERIOD  = 500                                   # Periodo do ciclo em ms\n",
    "NAME    = b'S'                                  # Nome do serviço "
   ]
  },
  {
   "cell_type": "code",
   "execution_count": null,
   "metadata": {},
   "outputs": [],
   "source": [
    "# INSTANCIAMENTO DA CLASSE CLIENTE \n",
    "print(\"Iniciando a conexão cliente/servidor...\")\n",
    "client = Client( HOST, PORT, timeout = 1/10 )\n",
    "\n",
    "tries = 0  \n",
    "\n",
    "while not cliente.isAlive:\n",
    "    \n",
    "    time.sleep(1)\n",
    "    cliente.connect_server() \n",
    "    tries += 1 \n",
    "    if tries > 5:\n",
    "        print(\"Servidor indisponível, encerrando processo\")\n",
    "        # ENCERRA COM ERRO \n",
    "        sys.exit(1)    \n",
    "        \n",
    "print(\"Conexão cliente/servidor estabelecida...\")"
   ]
  },
  {
   "cell_type": "code",
   "execution_count": null,
   "metadata": {},
   "outputs": [],
   "source": [
    " INSTANCIAMENTO DA CLASSE SERIAL READER \n",
    "print(\"Iniciando a conexão Serial na comport %s ...\" %(COMPORT if COMPORT else 'default'))\n",
    "comport = Serial_sr(COMPORT)"
   ]
  },
  {
   "cell_type": "code",
   "execution_count": null,
   "metadata": {},
   "outputs": [],
   "source": [
    "print(\"Conexões Serial estabelecida....\")\n",
    "input(\"Pressione ENTER para iniciar a transmissão....\")\n",
    "#os.system( 'clear' if os.name == 'nt' else 'cls' )       # Limpa a tela do prompt\n",
    "\n",
    "\n",
    "var_global_control = True    # Avisa o fim do código \n",
    "msg_ready          = False   # Mutex improvisado \n",
    "to_send            = 0       # Variavel global dos dados \n",
    "\n",
    "\n",
    "valor = 0 "
   ]
  },
  {
   "cell_type": "code",
   "execution_count": 4,
   "metadata": {},
   "outputs": [],
   "source": [
    "def read_serial():\n",
    "    global var_global_control\n",
    "    global msg_ready \n",
    "    global valor \n",
    "\n",
    "    while var_global_control: \n",
    "        time.sleep(time_to_read)\n",
    "        \n",
    "        \"\"\"lines = comport.serial_receive()\n",
    "        for line in  lines:   \n",
    "            data = str( line.decode() ).split(' ')[:-1]\n",
    "            data = [ int(n) for n in data ]\n",
    "            to_send = NAME + bytes(data) \n",
    "            print('Dados prontos para enviar : ', to_send )\n",
    "            msg_ready = True \n",
    "        \"\"\"\n",
    "\n",
    "        if valor + 5 < 180:\n",
    "            to_send = NAME + bytes(int.to_bytes(valor ** 2, 4, byteorder='little'))\n",
    "            valor = valor + 5\n",
    "            msg_ready = True\n",
    "            return to_send\n",
    "        else:\n",
    "            valor = 0 "
   ]
  },
  {
   "cell_type": "code",
   "execution_count": 5,
   "metadata": {},
   "outputs": [],
   "source": [
    "def send_to_server(message):\n",
    "    global var_global_control\n",
    "    global msg_ready\n",
    "\n",
    "    while var_global_control: \n",
    "        #time.sleep( time_to_send )\n",
    "        if msg_ready:\n",
    "            client.send_message(message)\n",
    "            print('Enviando : ', message)\n",
    "            msg_ready = False"
   ]
  },
  {
   "cell_type": "code",
   "execution_count": null,
   "metadata": {},
   "outputs": [],
   "source": [
    "alive = True:\n",
    "\n",
    "while alive:\n",
    "    \n",
    "    msg = read_serial()\n",
    "    send_to_server(msg)\n",
    "    \n",
    "    time.sleep(2)"
   ]
  },
  {
   "cell_type": "code",
   "execution_count": 6,
   "metadata": {},
   "outputs": [],
   "source": [
    "import socket"
   ]
  },
  {
   "cell_type": "code",
   "execution_count": 7,
   "metadata": {},
   "outputs": [
    {
     "data": {
      "text/plain": [
       "\u001b[1;31mType:\u001b[0m        module\n",
       "\u001b[1;31mString form:\u001b[0m <module 'socket' from 'E:\\\\anaconda3\\\\lib\\\\socket.py'>\n",
       "\u001b[1;31mFile:\u001b[0m        e:\\anaconda3\\lib\\socket.py\n",
       "\u001b[1;31mDocstring:\u001b[0m  \n",
       "This module provides socket operations and some related functions.\n",
       "On Unix, it supports IP (Internet Protocol) and Unix domain sockets.\n",
       "On other systems, it only supports IP. Functions specific for a\n",
       "socket are available as methods of the socket object.\n",
       "\n",
       "Functions:\n",
       "\n",
       "socket() -- create a new socket object\n",
       "socketpair() -- create a pair of new socket objects [*]\n",
       "fromfd() -- create a socket object from an open file descriptor [*]\n",
       "fromshare() -- create a socket object from data received from socket.share() [*]\n",
       "gethostname() -- return the current hostname\n",
       "gethostbyname() -- map a hostname to its IP number\n",
       "gethostbyaddr() -- map an IP number or hostname to DNS info\n",
       "getservbyname() -- map a service name and a protocol name to a port number\n",
       "getprotobyname() -- map a protocol name (e.g. 'tcp') to a number\n",
       "ntohs(), ntohl() -- convert 16, 32 bit int from network to host byte order\n",
       "htons(), htonl() -- convert 16, 32 bit int from host to network byte order\n",
       "inet_aton() -- convert IP addr string (123.45.67.89) to 32-bit packed format\n",
       "inet_ntoa() -- convert 32-bit packed format IP to string (123.45.67.89)\n",
       "socket.getdefaulttimeout() -- get the default timeout value\n",
       "socket.setdefaulttimeout() -- set the default timeout value\n",
       "create_connection() -- connects to an address, with an optional timeout and\n",
       "                       optional source address.\n",
       "\n",
       " [*] not available on all platforms!\n",
       "\n",
       "Special objects:\n",
       "\n",
       "SocketType -- type object for socket objects\n",
       "error -- exception raised for I/O errors\n",
       "has_ipv6 -- boolean value indicating if IPv6 is supported\n",
       "\n",
       "IntEnum constants:\n",
       "\n",
       "AF_INET, AF_UNIX -- socket domains (first argument to socket() call)\n",
       "SOCK_STREAM, SOCK_DGRAM, SOCK_RAW -- socket types (second argument)\n",
       "\n",
       "Integer constants:\n",
       "\n",
       "Many other constants may be defined; these may be used in calls to\n",
       "the setsockopt() and getsockopt() methods.\n"
      ]
     },
     "metadata": {},
     "output_type": "display_data"
    }
   ],
   "source": [
    "?socket"
   ]
  },
  {
   "cell_type": "code",
   "execution_count": 10,
   "metadata": {},
   "outputs": [
    {
     "name": "stdout",
     "output_type": "stream",
     "text": [
      "Help on Client in module sockets_udp.udp_client object:\n",
      "\n",
      "class Client(builtins.object)\n",
      " |  Client(HOST, PORT, timeout=5)\n",
      " |  \n",
      " |  Methods defined here:\n",
      " |  \n",
      " |  __init__(self, HOST, PORT, timeout=5)\n",
      " |      Initialize self.  See help(type(self)) for accurate signature.\n",
      " |  \n",
      " |  close_connection(self)\n",
      " |  \n",
      " |  connect_server(self)\n",
      " |  \n",
      " |  receive_message(self, show_msg)\n",
      " |  \n",
      " |  send_message(self, msg)\n",
      " |  \n",
      " |  set_buffer(self, buff)\n",
      " |  \n",
      " |  set_timeout(self, timeout)\n",
      " |  \n",
      " |  ----------------------------------------------------------------------\n",
      " |  Data descriptors defined here:\n",
      " |  \n",
      " |  __dict__\n",
      " |      dictionary for instance variables (if defined)\n",
      " |  \n",
      " |  __weakref__\n",
      " |      list of weak references to the object (if defined)\n",
      " |  \n",
      " |  ----------------------------------------------------------------------\n",
      " |  Data and other attributes defined here:\n",
      " |  \n",
      " |  BUFF = 1024\n",
      " |  \n",
      " |  HOST = '127.0.0.1'\n",
      " |  \n",
      " |  PORT = 5000\n",
      " |  \n",
      " |  TIMEOUT = 5\n",
      "\n"
     ]
    }
   ],
   "source": [
    "help(client)"
   ]
  },
  {
   "cell_type": "code",
   "execution_count": null,
   "metadata": {},
   "outputs": [],
   "source": []
  }
 ],
 "metadata": {
  "kernelspec": {
   "display_name": "Python 3",
   "language": "python",
   "name": "python3"
  },
  "language_info": {
   "codemirror_mode": {
    "name": "ipython",
    "version": 3
   },
   "file_extension": ".py",
   "mimetype": "text/x-python",
   "name": "python",
   "nbconvert_exporter": "python",
   "pygments_lexer": "ipython3",
   "version": "3.8.3"
  }
 },
 "nbformat": 4,
 "nbformat_minor": 4
}
