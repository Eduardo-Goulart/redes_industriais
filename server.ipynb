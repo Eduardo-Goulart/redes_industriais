{
 "cells": [
  {
   "cell_type": "code",
   "execution_count": 1,
   "metadata": {},
   "outputs": [],
   "source": [
    "import socket\n",
    "import socketserver, time\n",
    "from threading import Thread\n",
    "from time import sleep\n",
    "import sys"
   ]
  },
  {
   "cell_type": "code",
   "execution_count": 2,
   "metadata": {},
   "outputs": [],
   "source": [
    "host = '25.93.32.9'  #http://25.94.218.230:555\n",
    "port = 1234\n",
    "\n",
    "timeout = 180\n",
    "buffer_size = 1024\n",
    "\n",
    "CONFIRMATION = bytes('Data processed', 'utf-8')\n",
    "NO_DATA = bytes('no_data', 'utf-8')\n",
    "\n",
    "# broadcast = ('<broadcast>', 1234)\n",
    "\n",
    "messages = []"
   ]
  },
  {
   "cell_type": "code",
   "execution_count": 3,
   "metadata": {},
   "outputs": [],
   "source": [
    "def control(x, in_min, in_max, out_min, out_max):\n",
    "    return int((x - in_min) * (out_max - out_min) / (in_max - in_min) + out_min)"
   ]
  },
  {
   "cell_type": "code",
   "execution_count": 4,
   "metadata": {},
   "outputs": [],
   "source": [
    "def setup():\n",
    "    server = socket.socket(socket.AF_INET, socket.SOCK_DGRAM)\n",
    "    server.setsockopt(socket.SOL_SOCKET, socket.SO_BROADCAST, 1)\n",
    "    \n",
    "    server.settimeout(timeout)\n",
    "    server.bind((host, port))\n",
    "\n",
    "    print('Server connected...')\n",
    "    \n",
    "    return server"
   ]
  },
  {
   "cell_type": "code",
   "execution_count": 5,
   "metadata": {},
   "outputs": [],
   "source": [
    "def receive_msg(server, fail_state_count = 0):\n",
    "    \n",
    "    while True:\n",
    "        bytes_received, address = server.recvfrom(1024)\n",
    "\n",
    "        message = bytes_received.decode()\n",
    "\n",
    "        print('message: ', message)\n",
    "        print('from: ', address)\n",
    "\n",
    "        if message[0] == 'S':\n",
    "            fail_state_count = 0\n",
    "\n",
    "            byte_value = bytes(message[1:], 'utf-8')\n",
    "\n",
    "            bytes_to_send = int.from_bytes(byte_value, 'little')\n",
    "\n",
    "            messages.append(bytes_to_send)\n",
    "\n",
    "            server.sendto(CONFIRMATION, address)\n",
    "\n",
    "        elif message[0] == 'A':\n",
    "\n",
    "            if len(messages) != 0:\n",
    "\n",
    "                to_send = messages[0]\n",
    "                messages.pop(0)\n",
    "\n",
    "                MV = control(to_send, 0, 10, 100, 0)\n",
    "\n",
    "                bytes_to_send = int.to_bytes(MV, 4, byteorder = 'little')\n",
    "                server.sendto(bytes_to_send, address)\n",
    "\n",
    "            else:\n",
    "                server.sendto(NO_DATA, address)\n",
    "                fail_state_count = fail_state_count + 1 \n",
    "                \n",
    "                print('No data sent to actuator')\n",
    "\n",
    "                if fail_state_count == 3:\n",
    "                    server.sendto(int.to_bytes(0, 4, 'little'), address)\n",
    "                    print('Fail state activated')\n",
    "                    sys.exit(1)\n",
    "\n",
    "        else:\n",
    "            print('Cant interpretate request')\n",
    "            \n",
    "        time.sleep(0.5)"
   ]
  },
  {
   "cell_type": "code",
   "execution_count": 6,
   "metadata": {},
   "outputs": [
    {
     "name": "stdout",
     "output_type": "stream",
     "text": [
      "Server connected...\n",
      "message:  A\n",
      "from:  ('25.93.32.9', 61546)\n",
      "No data sent to actuator\n",
      "message:  A\n",
      "from:  ('25.93.32.9', 61546)\n",
      "No data sent to actuator\n",
      "message:  A\n",
      "from:  ('25.93.32.9', 61546)\n",
      "No data sent to actuator\n"
     ]
    },
    {
     "ename": "SystemExit",
     "evalue": "1",
     "output_type": "error",
     "traceback": [
      "An exception has occurred, use %tb to see the full traceback.\n",
      "\u001b[1;31mSystemExit\u001b[0m\u001b[1;31m:\u001b[0m 1\n"
     ]
    },
    {
     "name": "stderr",
     "output_type": "stream",
     "text": [
      "C:\\Users\\eduar\\anaconda3\\lib\\site-packages\\IPython\\core\\interactiveshell.py:3445: UserWarning: To exit: use 'exit', 'quit', or Ctrl-D.\n",
      "  warn(\"To exit: use 'exit', 'quit', or Ctrl-D.\", stacklevel=1)\n"
     ]
    }
   ],
   "source": [
    "server = setup()\n",
    "\n",
    "receive_msg(server)"
   ]
  },
  {
   "cell_type": "code",
   "execution_count": null,
   "metadata": {},
   "outputs": [],
   "source": [
    "# int.to_bytes(5,4,byteorder='little')\n",
    "# a = int.to_bytes(5, 4, byteorder = 'little')\n",
    "# s = b's' + a\n",
    "# int.from_bytes(a, 'little')"
   ]
  },
  {
   "cell_type": "code",
   "execution_count": null,
   "metadata": {},
   "outputs": [],
   "source": []
  }
 ],
 "metadata": {
  "kernelspec": {
   "display_name": "Python 3",
   "language": "python",
   "name": "python3"
  },
  "language_info": {
   "codemirror_mode": {
    "name": "ipython",
    "version": 3
   },
   "file_extension": ".py",
   "mimetype": "text/x-python",
   "name": "python",
   "nbconvert_exporter": "python",
   "pygments_lexer": "ipython3",
   "version": "3.8.10"
  }
 },
 "nbformat": 4,
 "nbformat_minor": 4
}
