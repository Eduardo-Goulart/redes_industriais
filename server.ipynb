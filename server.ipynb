{
 "cells": [
  {
   "cell_type": "code",
   "execution_count": 11,
   "metadata": {},
   "outputs": [],
   "source": [
    "import socket\n",
    "import socketserver, time"
   ]
  },
  {
   "cell_type": "code",
   "execution_count": 22,
   "metadata": {},
   "outputs": [],
   "source": [
    "host = \"25.114.157.253\"  #http://25.94.218.230:555\n",
    "port = 1234\n",
    "timeout = 5\n",
    "buffer_size = 1024\n",
    "\n",
    "aux = 0\n"
   ]
  },
  {
   "cell_type": "code",
   "execution_count": null,
   "metadata": {},
   "outputs": [],
   "source": [
    "server = socket.socket(socket.AF_INET, socket.SOCK_DGRAM)\n",
    "server.setsockopt(socket.SOL_SOCKET, socket.SO_BROADCAST, 1)\n",
    "server.settimeout(timeout)\n",
    "server.bind((host, port))\n",
    "\n",
    "print('Udp conectado')"
   ]
  },
  {
   "cell_type": "code",
   "execution_count": null,
   "metadata": {},
   "outputs": [],
   "source": [
    "def receive_msg():\n",
    "    \n",
    "    rcv_bytes = server.recvfrom(buffer_size)\n",
    "    message = rcv_bytes[0]\n",
    "    address = rcv_bytes[1]\n",
    "    \n",
    "    print('message: ', message.decode())\n",
    "    print('from: ', address)\n",
    "    \n",
    "    confirmation = 'Message received!'\n",
    "    \n",
    "    server.sendto(confirmation, address)"
   ]
  },
  {
   "cell_type": "code",
   "execution_count": null,
   "metadata": {},
   "outputs": [],
   "source": [
    "def send_msg():\n",
    "    pass"
   ]
  },
  {
   "cell_type": "code",
   "execution_count": null,
   "metadata": {},
   "outputs": [],
   "source": [
    "# alive = True\n",
    "\n",
    "# while alive:\n",
    "    \n",
    "#     frame = UDP"
   ]
  }
 ],
 "metadata": {
  "kernelspec": {
   "display_name": "Python 3",
   "language": "python",
   "name": "python3"
  },
  "language_info": {
   "codemirror_mode": {
    "name": "ipython",
    "version": 3
   },
   "file_extension": ".py",
   "mimetype": "text/x-python",
   "name": "python",
   "nbconvert_exporter": "python",
   "pygments_lexer": "ipython3",
   "version": "3.8.3"
  }
 },
 "nbformat": 4,
 "nbformat_minor": 4
}
