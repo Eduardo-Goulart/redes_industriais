{
 "cells": [
  {
   "cell_type": "code",
   "execution_count": null,
   "metadata": {},
   "outputs": [],
   "source": [
    "import socketserver\n",
    "import socket\n",
    "import time\n",
    "import sys\n",
    "import os\n",
    "from threading import Thread"
   ]
  },
  {
   "cell_type": "code",
   "execution_count": null,
   "metadata": {},
   "outputs": [],
   "source": [
    "COMPORT = 'COM3'\n",
    "HOST    = '25.92.87.184'                        # IP do hamachi\n",
    "PORT    = 1234\n",
    "PERIOD  = 500                                   # Periodo do ciclo em ms\n",
    "NAME    = 'A'                                  # Nome do serviço \n",
    "buffer = 1024"
   ]
  },
  {
   "cell_type": "code",
   "execution_count": null,
   "metadata": {},
   "outputs": [],
   "source": [
    "def connect():\n",
    "    \n",
    "    client = socket.socket(family=socket.AF_INET, type=socket.SOCK_DGRAM)\n",
    "    client.setsockopt(socket.SOL_SOCKET, socket.SO_BROADCAST, 1)\n",
    "    \n",
    "    return client"
   ]
  },
  {
   "cell_type": "code",
   "execution_count": null,
   "metadata": {},
   "outputs": [],
   "source": [
    "def send_message(client):\n",
    "    \n",
    "    while True:\n",
    "    \n",
    "        client.sendto(bytes(NAME, 'utf-8'), (HOST, PORT))\n",
    "        \n",
    "        response, address = client.recvfrom(1024)\n",
    "        \n",
    "        print('Recebido: ', response.decode())\n",
    "        \n",
    "        time.sleep(0.5)"
   ]
  },
  {
   "cell_type": "code",
   "execution_count": null,
   "metadata": {},
   "outputs": [],
   "source": [
    "client = connect()"
   ]
  },
  {
   "cell_type": "code",
   "execution_count": null,
   "metadata": {},
   "outputs": [],
   "source": [
    "send_message(client)"
   ]
  }
 ],
 "metadata": {
  "kernelspec": {
   "display_name": "Python 3",
   "language": "python",
   "name": "python3"
  },
  "language_info": {
   "codemirror_mode": {
    "name": "ipython",
    "version": 3
   },
   "file_extension": ".py",
   "mimetype": "text/x-python",
   "name": "python",
   "nbconvert_exporter": "python",
   "pygments_lexer": "ipython3",
   "version": "3.8.3"
  }
 },
 "nbformat": 4,
 "nbformat_minor": 4
}
