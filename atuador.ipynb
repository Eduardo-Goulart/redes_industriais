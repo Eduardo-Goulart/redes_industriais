{
 "cells": [
  {
   "cell_type": "code",
   "execution_count": null,
   "metadata": {},
   "outputs": [],
   "source": [
    "import socketserver\n",
    "import socket\n",
    "import time\n",
    "import sys\n",
    "import os\n",
    "from threading import Thread\n",
    "import serial"
   ]
  },
  {
   "cell_type": "code",
   "execution_count": null,
   "metadata": {},
   "outputs": [],
   "source": [
    "ARDUINO_PORT = 'COM3'\n",
    "HOST    = '25.93.32.9'                       # IP do hamachi\n",
    "PORT    = 1234\n",
    "PERIOD  = 500                                   \n",
    "NAME    = b'A'                                  # Nome do serviço \n",
    "BUFFER  = 1024\n",
    "CONFIRM = NAME + ACK\n",
    "SERVER = (HOST, PORT)"
   ]
  },
  {
   "cell_type": "code",
   "execution_count": null,
   "metadata": {},
   "outputs": [],
   "source": [
    "def connect_client():\n",
    "    \n",
    "    client = socket.socket(socket.AF_INET, socket.SOCK_DGRAM, socket.IPPROTO_UDP)\n",
    "    client.setsockopt(socket.SOL_SOCKET, socket.SO_BROADCAST, 1)\n",
    "    client.settimeout(5)\n",
    "\n",
    "    print('Client connected...')\n",
    "    \n",
    "    return client"
   ]
  },
  {
   "cell_type": "code",
   "execution_count": null,
   "metadata": {},
   "outputs": [],
   "source": [
    "def connect_arduino():\n",
    "    return serial.Serial(port=ARDUINO_PORT, baudrate = 9600, timeout=1)"
   ]
  },
  {
   "cell_type": "code",
   "execution_count": null,
   "metadata": {},
   "outputs": [],
   "source": [
    "def send_message(client):\n",
    "        \n",
    "    while True:\n",
    "\n",
    "        client.sendto(NAME, (HOST, PORT))\n",
    "        \n",
    "        response, address = client.recvfrom(1024)\n",
    "        \n",
    "        value = int.from_bytes(response, 'little')\n",
    "        print('Recebido: ', value)\n",
    "        \n",
    "        if value != 'no_data':\n",
    "            pass\n",
    "            #actuator.write(value)\n",
    "        else:\n",
    "            pass\n",
    "        \n",
    "        time.sleep(1.5)"
   ]
  },
  {
   "cell_type": "code",
   "execution_count": null,
   "metadata": {},
   "outputs": [],
   "source": [
    "client = connect_client()\n",
    "#actuator = connect_arduino()\n",
    "\n",
    "send_message(client)"
   ]
  },
  {
   "cell_type": "code",
   "execution_count": null,
   "metadata": {},
   "outputs": [],
   "source": []
  }
 ],
 "metadata": {
  "kernelspec": {
   "display_name": "Python 3",
   "language": "python",
   "name": "python3"
  },
  "language_info": {
   "codemirror_mode": {
    "name": "ipython",
    "version": 3
   },
   "file_extension": ".py",
   "mimetype": "text/x-python",
   "name": "python",
   "nbconvert_exporter": "python",
   "pygments_lexer": "ipython3",
   "version": "3.8.10"
  }
 },
 "nbformat": 4,
 "nbformat_minor": 4
}
